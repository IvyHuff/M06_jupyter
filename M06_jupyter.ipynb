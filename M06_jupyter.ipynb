{
 "cells": [
  {
   "cell_type": "code",
   "execution_count": 1,
   "id": "f2df7b59",
   "metadata": {},
   "outputs": [],
   "source": [
    "from datetime import datetime\n",
    "\n",
    "current_date = datetime.now().strftime(\"%Y-%m-%d\")\n",
    "\n",
    "with open(\"today.txt\", \"w\") as file:\n",
    "    file.write(current_date)\n"
   ]
  },
  {
   "cell_type": "code",
   "execution_count": 2,
   "id": "ee7f1ad0",
   "metadata": {},
   "outputs": [
    {
     "name": "stdout",
     "output_type": "stream",
     "text": [
      "2024-02-25\n"
     ]
    }
   ],
   "source": [
    "with open(\"today.txt\", \"r\") as file:\n",
    "    today_string = file.read()\n",
    "\n",
    "print(today_string)"
   ]
  },
  {
   "cell_type": "code",
   "execution_count": 3,
   "id": "ba0f31e0",
   "metadata": {},
   "outputs": [
    {
     "name": "stdout",
     "output_type": "stream",
     "text": [
      "2024-02-25 00:00:00\n"
     ]
    }
   ],
   "source": [
    "from datetime import datetime\n",
    "\n",
    "today_string = \"2024-02-25\"  # Replace this with the actual content of your today.txt\n",
    "\n",
    "parsed_date = datetime.strptime(today_string, \"%Y-%m-%d\")\n",
    "\n",
    "print(parsed_date)\n"
   ]
  },
  {
   "cell_type": "code",
   "execution_count": 4,
   "id": "9e62a33e",
   "metadata": {},
   "outputs": [],
   "source": [
    "import multiprocessing\n",
    "import time\n",
    "import datetime\n",
    "import random\n",
    "\n",
    "def process_function():\n",
    "    sleep_time = random.random()\n",
    "    \n",
    "    time.sleep(sleep_time)\n",
    "    \n",
    "    current_time = datetime.datetime.now().strftime(\"%Y-%m-%d %H:%M:%S\")\n",
    "    \n",
    "    print(f\"Process {multiprocessing.current_process().name} - Current Time: {current_time}\")\n",
    "    \n",
    "    print(f\"Process {multiprocessing.current_process().name} - Exiting\")\n",
    "\n",
    "if __name__ == \"__main__\":\n",
    "    processes = []\n",
    "    for i in range(3):\n",
    "        process = multiprocessing.Process(target=process_function, name=f\"Process-{i+1}\")\n",
    "        processes.append(process)\n",
    "        process.start()\n",
    "\n",
    "    for process in processes:\n",
    "        process.join()\n"
   ]
  },
  {
   "cell_type": "code",
   "execution_count": null,
   "id": "653fbbc4",
   "metadata": {},
   "outputs": [],
   "source": []
  }
 ],
 "metadata": {
  "kernelspec": {
   "display_name": "Python 3 (ipykernel)",
   "language": "python",
   "name": "python3"
  },
  "language_info": {
   "codemirror_mode": {
    "name": "ipython",
    "version": 3
   },
   "file_extension": ".py",
   "mimetype": "text/x-python",
   "name": "python",
   "nbconvert_exporter": "python",
   "pygments_lexer": "ipython3",
   "version": "3.11.5"
  }
 },
 "nbformat": 4,
 "nbformat_minor": 5
}
